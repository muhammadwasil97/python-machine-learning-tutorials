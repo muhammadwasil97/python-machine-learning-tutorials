{
 "cells": [
  {
   "cell_type": "code",
   "execution_count": 1,
   "id": "8f914133-1c40-4aad-8db6-1df7c16db721",
   "metadata": {
    "panel-layout": {
     "height": 224,
     "visible": true,
     "width": 100
    }
   },
   "outputs": [
    {
     "data": {
      "text/plain": [
       "0         2\n",
       "1      4.09\n",
       "2      True\n",
       "3     hello\n",
       "4     world\n",
       "5        to\n",
       "6    python\n",
       "dtype: object"
      ]
     },
     "execution_count": 1,
     "metadata": {},
     "output_type": "execute_result"
    }
   ],
   "source": [
    "import pandas as pd\n",
    "\n",
    "# tutorial 1\n",
    "\n",
    "#series/1d array in pandas\n",
    "\n",
    "integers = [1,2,3,4,5,6]\n",
    "pd.Series(integers)\n",
    "\n",
    "pd.Series([True, False, True, False])\n",
    "\n",
    "pd.Series(['hello', 'world', 'to', 'python'])\n",
    "\n",
    "pd.Series([2,4.09,True,'hello', 'world', 'to', 'python'])"
   ]
  },
  {
   "cell_type": "code",
   "execution_count": 2,
   "id": "df2f466f-0587-42e6-aabe-f9f36d6f4b5f",
   "metadata": {
    "panel-layout": {
     "height": 0,
     "visible": true,
     "width": 100
    }
   },
   "outputs": [
    {
     "name": "stdout",
     "output_type": "stream",
     "text": [
      "a    10\n",
      "b    20\n",
      "c    30\n",
      "d    40\n",
      "e    50\n",
      "f    60\n",
      "dtype: int64\n"
     ]
    }
   ],
   "source": [
    " # tutorial 2\n",
    "\n",
    "data_dict = {'f':60, 'a': 10, 'b':20,'c': 30, 'd':40,'e': 50}\n",
    "d = pd.Series(data_dict, index=['a', 'b','c', 'd', 'e', 'f'])\n",
    "print(d)"
   ]
  },
  {
   "cell_type": "code",
   "execution_count": 3,
   "id": "8610c8a6-baf7-4b9f-ac7d-0519517ff362",
   "metadata": {
    "panel-layout": {
     "height": 27.135417938232422,
     "visible": true,
     "width": 100
    }
   },
   "outputs": [
    {
     "data": {
      "text/plain": [
       "(10, 60, 18.708286933869708, 350.0, 35.0, 35.0, 6)"
      ]
     },
     "execution_count": 3,
     "metadata": {},
     "output_type": "execute_result"
    }
   ],
   "source": [
    "d.min(), d.max(), d.std(), d.var(), d.mean(), d.median(), d.count()"
   ]
  },
  {
   "cell_type": "code",
   "execution_count": 4,
   "id": "d1c98cca-0d43-4e73-ac47-93b9855b298b",
   "metadata": {},
   "outputs": [
    {
     "data": {
      "text/plain": [
       "(        ID          Name Form     Type1     Type2  Total   HP  Attack  \\\n",
       " 0        1     Bulbasaur          Grass    Poison    318   45      49   \n",
       " 1        2       Ivysaur          Grass    Poison    405   60      62   \n",
       " 2        3      Venusaur          Grass    Poison    525   80      82   \n",
       " 3        4    Charmander           Fire              309   39      52   \n",
       " 4        5    Charmeleon           Fire              405   58      64   \n",
       " ...    ...           ...  ...       ...       ...    ...  ...     ...   \n",
       " 1189  1006  Iron Valiant          Fairy  Fighting    590   74     130   \n",
       " 1190  1007      Koraidon       Fighting    Dragon    670  100     135   \n",
       " 1191  1008      Miraidon       Electric    Dragon    670  100      85   \n",
       " 1192  1009  Walking Wake          Water    Dragon    590   99      83   \n",
       " 1193  1010   Iron Leaves          Grass   Psychic    590   90     130   \n",
       " \n",
       "       Defense  Sp. Atk  Sp. Def  Speed  Generation  \n",
       " 0          49       65       65     45           1  \n",
       " 1          63       80       80     60           1  \n",
       " 2          83      100      100     80           1  \n",
       " 3          43       60       50     65           1  \n",
       " 4          58       80       65     80           1  \n",
       " ...       ...      ...      ...    ...         ...  \n",
       " 1189       90      120       60    116           9  \n",
       " 1190      115       85      100    135           9  \n",
       " 1191      100      135      115    135           9  \n",
       " 1192       91      125       83    109           9  \n",
       " 1193       88       70      108    104           9  \n",
       " \n",
       " [1194 rows x 13 columns],\n",
       " pandas.core.frame.DataFrame)"
      ]
     },
     "execution_count": 4,
     "metadata": {},
     "output_type": "execute_result"
    }
   ],
   "source": [
    "# tutorial 3\n",
    "\n",
    "# read a csv file using pandas\n",
    "\n",
    "pokemon = pd.read_csv('data/Pokemon.csv')\n",
    "pokemon, type(pokemon)"
   ]
  },
  {
   "cell_type": "code",
   "execution_count": 5,
   "id": "f8dad646",
   "metadata": {},
   "outputs": [
    {
     "data": {
      "text/plain": [
       "(0          Bulbasaur\n",
       " 1            Ivysaur\n",
       " 2           Venusaur\n",
       " 3         Charmander\n",
       " 4         Charmeleon\n",
       "             ...     \n",
       " 1189    Iron Valiant\n",
       " 1190        Koraidon\n",
       " 1191        Miraidon\n",
       " 1192    Walking Wake\n",
       " 1193     Iron Leaves\n",
       " Name: Name, Length: 1194, dtype: object,\n",
       " pandas.core.series.Series)"
      ]
     },
     "execution_count": 5,
     "metadata": {},
     "output_type": "execute_result"
    }
   ],
   "source": [
    "# convert this file to data series\n",
    "poke_data_series = pd.read_csv('data/Pokemon.csv', usecols=['Name']).squeeze()\n",
    "poke_ids = pd.read_csv('data/Pokemon.csv', usecols=['ID']).squeeze()\n",
    "poke_data_series, type(poke_data_series)"
   ]
  },
  {
   "cell_type": "code",
   "execution_count": 6,
   "id": "163b5b65",
   "metadata": {},
   "outputs": [
    {
     "data": {
      "text/plain": [
       "ID\n",
       "1          Bulbasaur\n",
       "2            Ivysaur\n",
       "3           Venusaur\n",
       "4         Charmander\n",
       "5         Charmeleon\n",
       "            ...     \n",
       "1006    Iron Valiant\n",
       "1007        Koraidon\n",
       "1008        Miraidon\n",
       "1009    Walking Wake\n",
       "1010     Iron Leaves\n",
       "Name: Name, Length: 1194, dtype: object"
      ]
     },
     "execution_count": 6,
     "metadata": {},
     "output_type": "execute_result"
    }
   ],
   "source": [
    "poke_data_series.index = poke_ids\n",
    "poke_data_series"
   ]
  },
  {
   "cell_type": "code",
   "execution_count": 7,
   "id": "5255095a",
   "metadata": {},
   "outputs": [
    {
     "data": {
      "text/plain": [
       "(pandas.core.series.Series, 1194, dtype('O'))"
      ]
     },
     "execution_count": 7,
     "metadata": {},
     "output_type": "execute_result"
    }
   ],
   "source": [
    "# tutorial 4\n",
    "\n",
    "type(poke_data_series), len(poke_data_series), poke_data_series.dtype"
   ]
  },
  {
   "cell_type": "code",
   "execution_count": 8,
   "id": "d261eb45",
   "metadata": {},
   "outputs": [
    {
     "data": {
      "text/plain": [
       "ID\n",
       "1          [B]\n",
       "2          [I]\n",
       "3          [V]\n",
       "4          [C]\n",
       "5          [C]\n",
       "         ...  \n",
       "1006    [I, V]\n",
       "1007       [K]\n",
       "1008       [M]\n",
       "1009    [W, W]\n",
       "1010    [I, L]\n",
       "Name: Name, Length: 1194, dtype: object"
      ]
     },
     "execution_count": 8,
     "metadata": {},
     "output_type": "execute_result"
    }
   ],
   "source": [
    "#tutorial 5\n",
    "\n",
    "poke_data_series.apply(type) \n",
    "poke_data_series.apply(lambda x: x.split())\n",
    "poke_data_series.apply(str.lower)\n",
    "poke_data_series.apply(lambda s : [x[0] for x in s.split()])"
   ]
  },
  {
   "cell_type": "code",
   "execution_count": 14,
   "id": "f40813c7",
   "metadata": {},
   "outputs": [
    {
     "data": {
      "text/html": [
       "<div>\n",
       "<style scoped>\n",
       "    .dataframe tbody tr th:only-of-type {\n",
       "        vertical-align: middle;\n",
       "    }\n",
       "\n",
       "    .dataframe tbody tr th {\n",
       "        vertical-align: top;\n",
       "    }\n",
       "\n",
       "    .dataframe thead th {\n",
       "        text-align: right;\n",
       "    }\n",
       "</style>\n",
       "<table border=\"1\" class=\"dataframe\">\n",
       "  <thead>\n",
       "    <tr style=\"text-align: right;\">\n",
       "      <th></th>\n",
       "      <th>0</th>\n",
       "    </tr>\n",
       "  </thead>\n",
       "  <tbody>\n",
       "    <tr>\n",
       "      <th>x</th>\n",
       "      <td>1</td>\n",
       "    </tr>\n",
       "    <tr>\n",
       "      <th>y</th>\n",
       "      <td>2</td>\n",
       "    </tr>\n",
       "    <tr>\n",
       "      <th>z</th>\n",
       "      <td>3</td>\n",
       "    </tr>\n",
       "  </tbody>\n",
       "</table>\n",
       "</div>"
      ],
      "text/plain": [
       "   0\n",
       "x  1\n",
       "y  2\n",
       "z  3"
      ]
     },
     "execution_count": 14,
     "metadata": {},
     "output_type": "execute_result"
    }
   ],
   "source": [
    "# tutorial 6\n",
    "\n",
    "# create dataframe from scratch\n",
    "\n",
    "# dictionary\n",
    "\n",
    "mydict = {'x':1, 'y':2,'z':3}\n",
    "pd.DataFrame([mydict]).T"
   ]
  },
  {
   "cell_type": "code",
   "execution_count": 15,
   "id": "7f3ef30d",
   "metadata": {},
   "outputs": [
    {
     "data": {
      "text/plain": [
       "[{'x': 0, 'y': 1, '2xy': 0},\n",
       " {'x': 1, 'y': 2, '2xy': 4},\n",
       " {'x': 2, 'y': 3, '2xy': 12},\n",
       " {'x': 3, 'y': 4, '2xy': 24},\n",
       " {'x': 4, 'y': 5, '2xy': 40},\n",
       " {'x': 5, 'y': 6, '2xy': 60},\n",
       " {'x': 6, 'y': 7, '2xy': 84},\n",
       " {'x': 7, 'y': 8, '2xy': 112},\n",
       " {'x': 8, 'y': 9, '2xy': 144},\n",
       " {'x': 9, 'y': 10, '2xy': 180}]"
      ]
     },
     "execution_count": 15,
     "metadata": {},
     "output_type": "execute_result"
    }
   ],
   "source": [
    "\n",
    "# list of dictionaries\n",
    "\n",
    "list_of_dicts = []\n",
    "\n",
    "for i in range(10):\n",
    "    list_of_dicts.append({\n",
    "        'x' : i,\n",
    "        'y' : i + 1,\n",
    "        '2xy' : i*(i+1)*2\n",
    "    })\n",
    "list_of_dicts"
   ]
  },
  {
   "cell_type": "code",
   "execution_count": 16,
   "id": "ef621de9",
   "metadata": {},
   "outputs": [
    {
     "data": {
      "text/html": [
       "<div>\n",
       "<style scoped>\n",
       "    .dataframe tbody tr th:only-of-type {\n",
       "        vertical-align: middle;\n",
       "    }\n",
       "\n",
       "    .dataframe tbody tr th {\n",
       "        vertical-align: top;\n",
       "    }\n",
       "\n",
       "    .dataframe thead th {\n",
       "        text-align: right;\n",
       "    }\n",
       "</style>\n",
       "<table border=\"1\" class=\"dataframe\">\n",
       "  <thead>\n",
       "    <tr style=\"text-align: right;\">\n",
       "      <th></th>\n",
       "      <th>x</th>\n",
       "      <th>y</th>\n",
       "      <th>2xy</th>\n",
       "    </tr>\n",
       "  </thead>\n",
       "  <tbody>\n",
       "    <tr>\n",
       "      <th>0</th>\n",
       "      <td>0</td>\n",
       "      <td>1</td>\n",
       "      <td>0</td>\n",
       "    </tr>\n",
       "    <tr>\n",
       "      <th>1</th>\n",
       "      <td>1</td>\n",
       "      <td>2</td>\n",
       "      <td>4</td>\n",
       "    </tr>\n",
       "    <tr>\n",
       "      <th>2</th>\n",
       "      <td>2</td>\n",
       "      <td>3</td>\n",
       "      <td>12</td>\n",
       "    </tr>\n",
       "    <tr>\n",
       "      <th>3</th>\n",
       "      <td>3</td>\n",
       "      <td>4</td>\n",
       "      <td>24</td>\n",
       "    </tr>\n",
       "    <tr>\n",
       "      <th>4</th>\n",
       "      <td>4</td>\n",
       "      <td>5</td>\n",
       "      <td>40</td>\n",
       "    </tr>\n",
       "    <tr>\n",
       "      <th>5</th>\n",
       "      <td>5</td>\n",
       "      <td>6</td>\n",
       "      <td>60</td>\n",
       "    </tr>\n",
       "    <tr>\n",
       "      <th>6</th>\n",
       "      <td>6</td>\n",
       "      <td>7</td>\n",
       "      <td>84</td>\n",
       "    </tr>\n",
       "    <tr>\n",
       "      <th>7</th>\n",
       "      <td>7</td>\n",
       "      <td>8</td>\n",
       "      <td>112</td>\n",
       "    </tr>\n",
       "    <tr>\n",
       "      <th>8</th>\n",
       "      <td>8</td>\n",
       "      <td>9</td>\n",
       "      <td>144</td>\n",
       "    </tr>\n",
       "    <tr>\n",
       "      <th>9</th>\n",
       "      <td>9</td>\n",
       "      <td>10</td>\n",
       "      <td>180</td>\n",
       "    </tr>\n",
       "  </tbody>\n",
       "</table>\n",
       "</div>"
      ],
      "text/plain": [
       "   x   y  2xy\n",
       "0  0   1    0\n",
       "1  1   2    4\n",
       "2  2   3   12\n",
       "3  3   4   24\n",
       "4  4   5   40\n",
       "5  5   6   60\n",
       "6  6   7   84\n",
       "7  7   8  112\n",
       "8  8   9  144\n",
       "9  9  10  180"
      ]
     },
     "execution_count": 16,
     "metadata": {},
     "output_type": "execute_result"
    }
   ],
   "source": [
    "pd.DataFrame(list_of_dicts)"
   ]
  },
  {
   "cell_type": "code",
   "execution_count": null,
   "id": "0ee77f32",
   "metadata": {},
   "outputs": [],
   "source": []
  }
 ],
 "metadata": {
  "kernelspec": {
   "display_name": "Python 3 (ipykernel)",
   "language": "python",
   "name": "python3"
  },
  "language_info": {
   "codemirror_mode": {
    "name": "ipython",
    "version": 3
   },
   "file_extension": ".py",
   "mimetype": "text/x-python",
   "name": "python",
   "nbconvert_exporter": "python",
   "pygments_lexer": "ipython3",
   "version": "3.12.3"
  },
  "panel-cell-order": [
   "8f914133-1c40-4aad-8db6-1df7c16db721",
   "df2f466f-0587-42e6-aabe-f9f36d6f4b5f",
   "8610c8a6-baf7-4b9f-ac7d-0519517ff362"
  ]
 },
 "nbformat": 4,
 "nbformat_minor": 5
}
